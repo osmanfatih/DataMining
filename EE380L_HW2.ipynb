{
 "cells": [
  {
   "cell_type": "markdown",
   "metadata": {
    "ein.tags": "worksheet-0",
    "slideshow": {
     "slide_type": "-"
    }
   },
   "source": [
    "\n",
    "# <p style=\"text-align: center;\">EE 380L: Data Mining</p>\n",
    "# <p style=\"text-align: center;\">Assignment 2</p>\n",
    "## <p style=\"text-align: center;\">Total points: 72</p>\n",
    "## <p style=\"text-align: center;\">Due: Tuesday, February 22nd, submitted via Canvas by 11:59 pm</p>\n",
    "\n",
    "Your homework should be written in a **Jupyter notebook**. You may work in groups of two if you wish. Only one student per team needs to submit the assignment on Canvas.  But be sure to include name and UTID for both students.  Homework groups will be created and managed through Canvas, so please do not arbitrarily change your homework group.  \n",
    "\n",
    "Also, please make sure your code runs and the graphics (and anything else) are displayed in your notebook before submitting. (%matplotlib inline)\n",
    "\n",
    "## <p style=\"color:red\"> Osman Fatih Kilic </p>\n",
    "## <p style=\"color:red\"> UT EID: ok2439 </p>"
   ]
  },
  {
   "cell_type": "markdown",
   "metadata": {
    "ein.tags": "worksheet-0",
    "slideshow": {
     "slide_type": "-"
    }
   },
   "source": [
    "# Question 1: Ridge and Lasso Regression (20 points)\n",
    "Use the following code to import the dow_jones dataset."
   ]
  },
  {
   "cell_type": "code",
   "execution_count": 1,
   "metadata": {
    "autoscroll": false,
    "ein.tags": "worksheet-0",
    "slideshow": {
     "slide_type": "-"
    }
   },
   "outputs": [],
   "source": [
    "% matplotlib inline\n",
    "\n",
    "import numpy as np\n",
    "import pandas as pd\n",
    "from sklearn import datasets, linear_model\n",
    "from sklearn.metrics import mean_squared_error\n",
    "\n",
    "from matplotlib import pyplot as plt"
   ]
  },
  {
   "cell_type": "code",
   "execution_count": 2,
   "metadata": {
    "autoscroll": false,
    "ein.tags": "worksheet-0",
    "slideshow": {
     "slide_type": "-"
    }
   },
   "outputs": [],
   "source": [
    "df = pd.read_csv('dow_jones_index.data')\n",
    "df = df.dropna()\n",
    "X = df[[u'open', u'high', u'low', u'close',\n",
    "       u'volume', u'percent_change_price',\n",
    "       u'percent_change_volume_over_last_wk', u'previous_weeks_volume', u'next_weeks_close',\n",
    "       u'percent_change_next_weeks_price', u'days_to_next_dividend',\n",
    "       u'percent_return_next_dividend']]\n",
    "X = X.as_matrix()\n",
    "\n",
    "for feat in range(X.shape[1]):\n",
    "    try:\n",
    "        if \"$\" in X[0, feat]:\n",
    "            X[:,feat] = [i.split(\"$\")[1] for i in X[:,feat]]\n",
    "    except:\n",
    "        pass\n",
    "X = X.astype('float')\n",
    "X = (X - np.mean(X, axis=0))/np.std(X, axis=0)\n",
    "\n",
    "y = df[[u'next_weeks_open']]\n",
    "y = y.as_matrix()\n",
    "y = [i.split(\"$\")[1] for i in y[:, 0]]\n",
    "y = np.array(y)\n",
    "y = y.astype('float')"
   ]
  },
  {
   "cell_type": "markdown",
   "metadata": {
    "ein.tags": "worksheet-0",
    "slideshow": {
     "slide_type": "-"
    }
   },
   "source": [
    "You will reuse the same dataset that you used in HW1. In this HW, you will add additional second-order polynomial and interaction variables to the features matrix. Note that this code adds all combinations of the features with degree less than or equal to two; in practice one may introduce only a few based on domain knowledge or experimentation."
   ]
  },
  {
   "cell_type": "code",
   "execution_count": 3,
   "metadata": {
    "autoscroll": false,
    "ein.tags": "worksheet-0",
    "slideshow": {
     "slide_type": "-"
    }
   },
   "outputs": [],
   "source": [
    "from sklearn.preprocessing import PolynomialFeatures\n",
    "X = PolynomialFeatures(2, include_bias=False).fit_transform(X)"
   ]
  },
  {
   "cell_type": "markdown",
   "metadata": {
    "ein.tags": "worksheet-0",
    "slideshow": {
     "slide_type": "-"
    }
   },
   "source": [
    "In this question, you will explore the application of Lasso and Ridge regression using sklearn package in Python. The following code will split the data into training and test set using [train_test_split](http://scikit-learn.org/stable/modules/generated/sklearn.model_selection.train_test_split.html) with **random state 20** and **test_size = 0.33**.  Note: lambda is called alpha in sklearn."
   ]
  },
  {
   "cell_type": "code",
   "execution_count": 4,
   "metadata": {
    "autoscroll": false,
    "ein.tags": "worksheet-0",
    "slideshow": {
     "slide_type": "-"
    }
   },
   "outputs": [],
   "source": [
    "from sklearn.model_selection import train_test_split\n",
    "X_train, X_test, y_train, y_test = train_test_split(X,y,test_size = 0.33, random_state=20)"
   ]
  },
  {
   "cell_type": "markdown",
   "metadata": {
    "ein.tags": "worksheet-0",
    "slideshow": {
     "slide_type": "-"
    }
   },
   "source": [
    "1) Use sklearn.linear_model.Lasso and sklearn.linear_model.Ridge classes to do a [5-fold cross validation](http://scikit-learn.org/stable/auto_examples/exercises/plot_cv_diabetes.html#example-exercises-plot-cv-diabetes-py) using sklearn's [KFold](http://scikit-learn.org/stable/modules/generated/sklearn.model_selection.KFold.html#sklearn.model_selection.KFold). For the sweep of the regularization parameter, we will look at a grid of values ranging from $\\lambda = 10^{6}$ to $\\lambda = 10^{-2}$. In Python, you can consider this range of values as follows:\n",
    "\n",
    "      import numpy as np\n",
    "\n",
    "      alphas =  10**np.linspace(6,-2,100)*0.5\n",
    "\n",
    "  Report the best chosen $\\lambda$ based on cross validation on each model. The cross validation should happen on your training data using  average MSE as the scoring metric. (5pts)\n",
    "\n",
    "2) Run ridge and lasso for all of the alphas specified above (on training data), and plot the coefficients learned for each of them - there should be one plot each for lasso and ridge, so a total of two plots; the plots for different features for a method should be on the same plot (e.g. Fig 6.6 of JW). What do you qualitatively observe when value of the regularization parameter is changed? What do you observe about the coefficients returned from the ridge and lasso models? (5pts)\n",
    "\n",
    "\n",
    "3) What are the top 10 most important features for the lasso and ridge models for the hyperparameters that got the best MSE? (2pts)\n",
    "\n",
    "\n",
    "4) SKLearn can perform this cross validation for us and choose the best regularization hyper-parameter. It will automatically determine the range of $\\lambda$ s to search over. Run lasso again with cross validation using [sklearn.linear_model.LassoCV](http://scikit-learn.org/stable/modules/generated/sklearn.linear_model.LassoCV.html). Set the cross validation parameters as follows:\n",
    "\n",
    "    LassoCV(alphas=None, cv=10, max_iter=10000)\n",
    "\n",
    "    Report the best $\\lambda$ based on cross validation. (3 pts)\n",
    "    \n",
    "5) \n",
    "    i) Run Ridge, lasso with the best hyperparameters and report the MSE on test data. \n",
    "    ii) Run OLS on the training data with all the features and then with the features selected through lasso (features with non zero weights). Report the MSE on test data. (5 pts)\n",
    "\n",
    "## Answer"
   ]
  },
  {
   "cell_type": "markdown",
   "metadata": {},
   "source": [
    "### 1)\n",
    "In this part we report best hyperparameters based on cross-validation and mean MSE."
   ]
  },
  {
   "cell_type": "code",
   "execution_count": 5,
   "metadata": {},
   "outputs": [
    {
     "name": "stdout",
     "output_type": "stream",
     "text": [
      "Best chosen param by Ridge: 0.005\n",
      "Best chosen param by Lasso: 0.00725414389248\n"
     ]
    }
   ],
   "source": [
    "from sklearn.model_selection import GridSearchCV\n",
    "# Define the hyperparameter grid\n",
    "alphas_grid =  10**np.linspace(6,-2,100)*0.5\n",
    "n_folds = 5\n",
    "# Run CV on ridge regression\n",
    "model = linear_model.Ridge()\n",
    "grid = GridSearchCV(model,param_grid=dict(alpha=alphas_grid),\n",
    "                    scoring='neg_mean_squared_error',cv=n_folds,return_train_score=True)\n",
    "grid.fit(X_train,y_train)\n",
    "ridge_est = grid.best_estimator_\n",
    "ridge_results = pd.DataFrame.from_dict(grid.cv_results_)\n",
    "param_ridge = ridge_results['param_alpha'].iloc[ridge_results['mean_test_score'].idxmax()]\n",
    "print 'Best chosen param by Ridge: {}'.format(param_ridge)\n",
    "# Run CV on lasso regression\n",
    "model = linear_model.Lasso(max_iter=10000)\n",
    "grid = GridSearchCV(model,param_grid=dict(alpha=alphas_grid),\n",
    "                    scoring='neg_mean_squared_error',cv=n_folds,return_train_score=True)\n",
    "grid.fit(X_train,y_train)\n",
    "lasso_est = grid.best_estimator_\n",
    "lasso_results = pd.DataFrame.from_dict(grid.cv_results_)\n",
    "param_lasso = lasso_results['param_alpha'].iloc[lasso_results['mean_test_score'].idxmax()]\n",
    "print 'Best chosen param by Lasso: {}'.format(param_lasso)"
   ]
  },
  {
   "cell_type": "markdown",
   "metadata": {},
   "source": [
    " ### 2)\n",
    "Now, we will observe how the coefficients we find change along with the regularization parameter over different models."
   ]
  },
  {
   "cell_type": "code",
   "execution_count": 6,
   "metadata": {},
   "outputs": [],
   "source": [
    "ridge_coeff = list()\n",
    "lasso_coeff = list()\n",
    "for alpha_selected in alphas_grid:\n",
    "    # Ridge regression\n",
    "    ridge = linear_model.Ridge(alpha=alpha_selected)\n",
    "    ridge.fit(X_train,y_train)\n",
    "    ridge_coeff.append(ridge.coef_)\n",
    "    # Lasso regression\n",
    "    lasso = linear_model.Lasso(alpha=alpha_selected,max_iter=10000)\n",
    "    lasso.fit(X_train,y_train)\n",
    "    lasso_coeff.append(lasso.coef_)"
   ]
  },
  {
   "cell_type": "code",
   "execution_count": 7,
   "metadata": {},
   "outputs": [
    {
     "data": {
      "image/png": "[encoded data removed]",
      "text/plain": [
       "<matplotlib.figure.Figure at 0x1a0cf518d0>"
      ]
     },
     "metadata": {},
     "output_type": "display_data"
    }
   ],
   "source": [
    "# Display the results for the ridge regularization\n",
    "ax = plt.gca()\n",
    "ax.plot(alphas_grid, ridge_coeff)\n",
    "ax.set_xscale('log')\n",
    "ax.set_xlim(ax.get_xlim()[::-1])\n",
    "plt.xlabel('alpha')\n",
    "plt.ylabel('weights')\n",
    "plt.title('Ridge coefficients as a function of the regularization')\n",
    "plt.axis('tight')\n",
    "plt.show()"
   ]
  },
  {
   "cell_type": "code",
   "execution_count": 8,
   "metadata": {},
   "outputs": [
    {
     "data": {
      "image/png": "[encoded data removed]",
      "text/plain": [
       "<matplotlib.figure.Figure at 0x1a16bd1c10>"
      ]
     },
     "metadata": {},
     "output_type": "display_data"
    }
   ],
   "source": [
    "# Display the results for the ridge regularization\n",
    "ax = plt.gca()\n",
    "ax.plot(alphas_grid, lasso_coeff)\n",
    "ax.set_xscale('log')\n",
    "ax.set_xlim(ax.get_xlim()[::-1])\n",
    "plt.xlabel('alpha')\n",
    "plt.ylabel('weights')\n",
    "plt.title('Lasso coefficients as a function of the regularization')\n",
    "plt.axis('tight')\n",
    "plt.show()"
   ]
  },
  {
   "cell_type": "markdown",
   "metadata": {},
   "source": [
    "Note that when we impose high regularization on the models, almost every weight of the models are zeroed, thus we obtain low variance and high bias on these models. Then as we decrease the regularization parameter, we observe the weights of the model starts varying and we observe that the lower the regularization of the model the higher the variance of the weights we get.\n",
    "\n",
    "Particularly, we observe that Lasso zeroes more elements of the model than the Ridge. We observe that the distriubtion of the weights of Ridge is smoother than the Lasso. Also, we observe that Lasso and Ridge return different models for the same level of regularization so that the important features are different for the two models."
   ]
  },
  {
   "cell_type": "markdown",
   "metadata": {},
   "source": [
    "### 3)\n",
    "\n",
    "The top 10 important features for each model at best are as following."
   ]
  },
  {
   "cell_type": "code",
   "execution_count": 43,
   "metadata": {},
   "outputs": [
    {
     "data": {
      "text/plain": [
       "Ridge(alpha=0.0050000000000000001, copy_X=True, fit_intercept=True,\n",
       "   max_iter=None, normalize=False, random_state=None, solver='auto',\n",
       "   tol=0.001)"
      ]
     },
     "execution_count": 43,
     "metadata": {},
     "output_type": "execute_result"
    }
   ],
   "source": [
    "lasso_est.fit(X_train,y_train)\n",
    "ridge_est.fit(X_train,y_train)"
   ]
  },
  {
   "cell_type": "code",
   "execution_count": 24,
   "metadata": {},
   "outputs": [],
   "source": [
    "# Define function that return indices for a boolean function\n",
    "def indices(a, func):\n",
    "    return [i for (i, val) in enumerate(a) if func(val)]\n",
    "\n",
    "ind = lasso_est.coef_.argsort()\n",
    "lasso_features = indices(ind, lambda x: x >= 80)\n",
    "ind = ridge_est.coef_.argsort()\n",
    "ridge_features = indices(ind,lambda x: x >= 80)"
   ]
  },
  {
   "cell_type": "code",
   "execution_count": 25,
   "metadata": {},
   "outputs": [
    {
     "name": "stdout",
     "output_type": "stream",
     "text": [
      "Best 10 features chosen by Ridge: [4, 14, 18, 37, 38, 41, 42, 46, 58, 73]\n",
      "Best 10 features chosen by Lasso: [4, 24, 25, 26, 27, 28, 29, 30, 43, 44]\n"
     ]
    }
   ],
   "source": [
    "print 'Best 10 features chosen by Ridge: {}'.format(ridge_features)\n",
    "print 'Best 10 features chosen by Lasso: {}'.format(lasso_features)"
   ]
  },
  {
   "cell_type": "markdown",
   "metadata": {},
   "source": [
    "### 4)\n",
    "Auto-CV for Lasso"
   ]
  },
  {
   "cell_type": "code",
   "execution_count": 28,
   "metadata": {},
   "outputs": [
    {
     "name": "stdout",
     "output_type": "stream",
     "text": [
      "Best chosen param by LassoCV over 10-fold: 0.0466112165952\n"
     ]
    }
   ],
   "source": [
    "model = linear_model.LassoCV(max_iter=10000,cv=10)\n",
    "model.fit(X_train,y_train)\n",
    "print 'Best chosen param by LassoCV over 10-fold: {}'.format(model.alpha_)"
   ]
  },
  {
   "cell_type": "markdown",
   "metadata": {},
   "source": [
    "### 5)\n",
    "#### i) We first run ridge and lasso over test data with determined hyperparameters"
   ]
  },
  {
   "cell_type": "code",
   "execution_count": 44,
   "metadata": {},
   "outputs": [
    {
     "name": "stdout",
     "output_type": "stream",
     "text": [
      "Lasso MSE over test data: 0.0360787946137\n",
      "Ridge MSE over test data: 0.00193173303222\n"
     ]
    }
   ],
   "source": [
    "y_pred = lasso_est.predict(X_test)\n",
    "lasso_mse = mean_squared_error(y_test,y_pred)\n",
    "print 'Lasso MSE over test data: {}'.format(lasso_mse)\n",
    "y_pred = ridge_est.predict(X_test)\n",
    "ridge_mse = mean_squared_error(y_test,y_pred)\n",
    "print 'Ridge MSE over test data: {}'.format(ridge_mse)"
   ]
  },
  {
   "cell_type": "markdown",
   "metadata": {},
   "source": [
    "#### ii) \n",
    "We first run Ordinary Least Squares over training data using all of the features and calculate its MSE performance over test data. Second, we use only the features selected by lasso to perform the same operations."
   ]
  },
  {
   "cell_type": "code",
   "execution_count": 45,
   "metadata": {},
   "outputs": [
    {
     "name": "stdout",
     "output_type": "stream",
     "text": [
      "(90,)\n",
      "OLS MSE using all features: 0.000255408843495\n",
      "OLS MSE using selected features: 0.188669602469\n"
     ]
    }
   ],
   "source": [
    "ind = lasso_est.coef_>0\n",
    "# Selected features datasets\n",
    "X_train_modified = X_train[:,ind]\n",
    "X_test_modified = X_test[:,ind]\n",
    "# OLS over full feature-set\n",
    "model = linear_model.LinearRegression()\n",
    "model.fit(X_train,y_train)\n",
    "y_pred = model.predict(X_test)\n",
    "ols_full_mse = mean_squared_error(y_test,y_pred)\n",
    "print 'OLS MSE using all features: {}'.format(ols_full_mse)\n",
    "# OLS over selected features\n",
    "model.fit(X_train_modified,y_train)\n",
    "y_pred = model.predict(X_test_modified)\n",
    "ols_selected_mse = mean_squared_error(y_test,y_pred)\n",
    "print 'OLS MSE using selected features: {}'.format(ols_selected_mse)"
   ]
  },
  {
   "cell_type": "markdown",
   "metadata": {
    "ein.tags": "worksheet-0",
    "slideshow": {
     "slide_type": "-"
    }
   },
   "source": [
    "# Question 2: Bias-Variance Tradeoff (5 points)\n",
    "\n",
    "1. Describe the relationship between Ordinary Least Squares and Ridge Regression (the problem analyzed in the previous question) with reference to Bias-Variance trade-off.\n",
    "2. Which is a higher variance model, kNN with k = 1 or with k = 10?\n",
    "\n",
    "# Answer\n",
    "\n",
    "1) The $l_2$ norm regularization that Ridge regression introduces penalizes the variance of the model. Therefore, the more the regularization increases the less variance the Ridge regression model will have, which in turn will increase the bias. \n",
    "\n",
    "On the other hand, Ordinary Least Squares does not impose any constraint on the model, which in turn fits over the data in a way that minimizes the squared loss. Therefore, OLS model potentially will have higher variance than Ridge Regression, but lower bias.\n",
    "\n",
    "2) kNN with k=1 will have a higher variance and lower bias than k=10. Note that k=10 averages using 10 reference points which reduces the variance compared to k=1."
   ]
  },
  {
   "cell_type": "markdown",
   "metadata": {
    "ein.tags": "worksheet-0",
    "slideshow": {
     "slide_type": "-"
    }
   },
   "source": [
    "# Question 3 - Principal Component Analysis (15 points)\n",
    "\n",
    "Import the same dataset with the interaction variables as in Q1."
   ]
  },
  {
   "cell_type": "code",
   "execution_count": 1,
   "metadata": {
    "autoscroll": false,
    "ein.tags": "worksheet-0",
    "slideshow": {
     "slide_type": "-"
    }
   },
   "outputs": [],
   "source": [
    "% matplotlib inline\n",
    "\n",
    "import numpy as np\n",
    "import pandas as pd\n",
    "from sklearn import datasets, linear_model\n",
    "from sklearn.metrics import mean_squared_error\n",
    "\n",
    "from matplotlib import pyplot as plt"
   ]
  },
  {
   "cell_type": "code",
   "execution_count": 2,
   "metadata": {
    "autoscroll": false,
    "ein.tags": "worksheet-0",
    "slideshow": {
     "slide_type": "-"
    }
   },
   "outputs": [],
   "source": [
    "df = pd.read_csv('dow_jones_index.data')\n",
    "df = df.dropna()\n",
    "X = df[[u'open', u'high', u'low', u'close',\n",
    "       u'volume', u'percent_change_price',\n",
    "       u'percent_change_volume_over_last_wk', u'previous_weeks_volume', u'next_weeks_close',\n",
    "       u'percent_change_next_weeks_price', u'days_to_next_dividend',\n",
    "       u'percent_return_next_dividend']]\n",
    "X = X.as_matrix()\n",
    "\n",
    "for feat in range(X.shape[1]):\n",
    "    try:\n",
    "        if \"$\" in X[0, feat]:\n",
    "            X[:,feat] = [i.split(\"$\")[1] for i in X[:,feat]]\n",
    "    except:\n",
    "        pass\n",
    "X = X.astype('float')\n",
    "X = (X - np.mean(X, axis=0))/np.std(X, axis=0)\n",
    "\n",
    "y = df[[u'next_weeks_open']]\n",
    "y = y.as_matrix()\n",
    "y = [i.split(\"$\")[1] for i in y[:, 0]]\n",
    "y = np.array(y)\n",
    "y = y.astype('float')"
   ]
  },
  {
   "cell_type": "code",
   "execution_count": 3,
   "metadata": {
    "autoscroll": false,
    "ein.tags": "worksheet-0",
    "slideshow": {
     "slide_type": "-"
    }
   },
   "outputs": [],
   "source": [
    "from sklearn.preprocessing import PolynomialFeatures\n",
    "X = PolynomialFeatures(2, include_bias=False).fit_transform(X)"
   ]
  },
  {
   "cell_type": "code",
   "execution_count": 4,
   "metadata": {
    "autoscroll": false,
    "ein.tags": "worksheet-0",
    "slideshow": {
     "slide_type": "-"
    }
   },
   "outputs": [],
   "source": [
    "from sklearn.model_selection import train_test_split\n",
    "X_train, X_test, y_train, y_test = train_test_split(X,y,test_size = 0.33, random_state=20)"
   ]
  },
  {
   "cell_type": "markdown",
   "metadata": {
    "ein.tags": "worksheet-0",
    "slideshow": {
     "slide_type": "-"
    }
   },
   "source": [
    "(a) Perform PCA using the sklearn [PCA](http://scikit-learn.org/stable/modules/generated/sklearn.decomposition.PCA.html) package.  Create i) a scree plot depicting the proportion of variance and ii) a cumulative proportion of variance explained by the principal components of the data (X_train matrix).  Refer to Figure 10.4 of JW for an example.  You may use the output attribute *explained variance ratio*. How many principal components (N1, N2, N3) are required to explain cumulative variance of 90%, 95%, and 99%, respectively? (6 pts)\n",
    "\n",
    "(c) Fit an ordinary least squares linear regression using N1, N2, and N3 number of principal components, respectively. Fit PCA on X_train and predict on X_test. Compare the test MSE using N1, N2, N3 to using all features from PCA (6 pts)\n",
    "\n",
    "(d) Compare this to the MSE reported in Q1.For this dataset, would you use PCA/Lasso as a feature elimination technique based on: (3 pts)\n",
    "i) Interpretability of results\n",
    "ii) MSE value\n",
    "iii) Hyperparameter tuning?\n",
    "\n",
    "## Answer"
   ]
  },
  {
   "cell_type": "markdown",
   "metadata": {},
   "source": [
    "### (a) Find PVE of PCs"
   ]
  },
  {
   "cell_type": "code",
   "execution_count": 5,
   "metadata": {},
   "outputs": [
    {
     "data": {
      "text/plain": [
       "PCA(copy=True, iterated_power='auto', n_components=None, random_state=None,\n",
       "  svd_solver='auto', tol=0.0, whiten=False)"
      ]
     },
     "execution_count": 5,
     "metadata": {},
     "output_type": "execute_result"
    }
   ],
   "source": [
    "from sklearn import decomposition\n",
    "model = decomposition.PCA()\n",
    "model.fit(X_train)"
   ]
  },
  {
   "cell_type": "code",
   "execution_count": 6,
   "metadata": {},
   "outputs": [
    {
     "data": {
      "image/png": "[encoded data removed]",
      "text/plain": [
       "<matplotlib.figure.Figure at 0x1a08ff1510>"
      ]
     },
     "metadata": {},
     "output_type": "display_data"
    }
   ],
   "source": [
    "# Scree plot for each component PVE\n",
    "indices = np.arange(np.size(model.components_,axis=1)) + 1\n",
    "plt.plot(indices,model.explained_variance_ratio_,'-',linewidth=2)\n",
    "plt.title('Plot of Normalized PVE of each PC')\n",
    "plt.xlabel('Principal Components')\n",
    "plt.ylabel('Proportion of Variance Explained (PVE)')\n",
    "plt.show()"
   ]
  },
  {
   "cell_type": "code",
   "execution_count": 7,
   "metadata": {},
   "outputs": [
    {
     "data": {
      "image/png": "[encoded data removed]",
      "text/plain": [
       "<matplotlib.figure.Figure at 0x1a120c3490>"
      ]
     },
     "metadata": {},
     "output_type": "display_data"
    }
   ],
   "source": [
    "# Screeplot for the cumulative PVE of PCs\n",
    "cum_pve = np.cumsum(model.explained_variance_ratio_)\n",
    "indices = np.arange(np.size(model.components_,axis=1)) + 1\n",
    "plt.plot(indices,cum_pve,'-',linewidth=2)\n",
    "plt.title('Scree Plot of Cumulative PVE')\n",
    "plt.xlabel('Num of PCs Used')\n",
    "plt.ylabel('Total Proportion of Variance Explained (PVE)')\n",
    "plt.show()"
   ]
  },
  {
   "cell_type": "code",
   "execution_count": 8,
   "metadata": {},
   "outputs": [
    {
     "name": "stdout",
     "output_type": "stream",
     "text": [
      "Number of Principal Components used for 90% PVE: 12\n",
      "Number of Principal Components used for 95% PVE: 18\n",
      "Number of Principal Components used for 99% PVE: 29\n"
     ]
    }
   ],
   "source": [
    "N1 = indices[cum_pve>0.9]\n",
    "N1 = N1[0]\n",
    "print 'Number of Principal Components used for 90% PVE: {}'.format(N1)\n",
    "\n",
    "N2 = indices[cum_pve>0.95]\n",
    "N2 = N2[0]\n",
    "print 'Number of Principal Components used for 95% PVE: {}'.format(N2)\n",
    "\n",
    "N3 = indices[cum_pve>0.99]\n",
    "N3 = N3[0]\n",
    "print 'Number of Principal Components used for 99% PVE: {}'.format(N3)"
   ]
  },
  {
   "cell_type": "markdown",
   "metadata": {},
   "source": [
    "### (b) Fit OLS using PCs"
   ]
  },
  {
   "cell_type": "code",
   "execution_count": 9,
   "metadata": {},
   "outputs": [
    {
     "name": "stdout",
     "output_type": "stream",
     "text": [
      "MSE of OLS using All PCs: 0.000255408822051\n",
      "MSE of OLS using 12 PCs: 145.469202378\n",
      "MSE of OLS using 18 PCs: 27.7258861025\n",
      "MSE of OLS using 29 PCs: 3.19815659743\n"
     ]
    }
   ],
   "source": [
    "# OLS Using All PCs\n",
    "model = decomposition.PCA()\n",
    "X_train_reduced = model.fit_transform(X_train)\n",
    "X_test_reduced = model.transform(X_test)\n",
    "ols = linear_model.LinearRegression()\n",
    "ols.fit(X_train_reduced,y_train)\n",
    "y_pred = ols.predict(X_test_reduced)\n",
    "all_mse = mean_squared_error(y_test,y_pred)\n",
    "print 'MSE of OLS using All PCs: {}'.format(all_mse)\n",
    "\n",
    "\n",
    "# OLS Using N1 PCs\n",
    "model = decomposition.PCA(n_components=N1)\n",
    "X_train_reduced = model.fit_transform(X_train)\n",
    "X_test_reduced = model.transform(X_test)\n",
    "ols = linear_model.LinearRegression()\n",
    "ols.fit(X_train_reduced,y_train)\n",
    "y_pred = ols.predict(X_test_reduced)\n",
    "N1_mse = mean_squared_error(y_test,y_pred)\n",
    "print 'MSE of OLS using {} PCs: {}'.format(N1,N1_mse)\n",
    "\n",
    "# OLS Using N2 PCs\n",
    "model = decomposition.PCA(n_components=N2)\n",
    "X_train_reduced = model.fit_transform(X_train)\n",
    "X_test_reduced = model.transform(X_test)\n",
    "ols = linear_model.LinearRegression()\n",
    "ols.fit(X_train_reduced,y_train)\n",
    "y_pred = ols.predict(X_test_reduced)\n",
    "N2_mse = mean_squared_error(y_test,y_pred)\n",
    "print 'MSE of OLS using {} PCs: {}'.format(N2,N2_mse)\n",
    "\n",
    "# OLS Using N2 PCs\n",
    "model = decomposition.PCA(n_components=N3)\n",
    "X_train_reduced = model.fit_transform(X_train)\n",
    "X_test_reduced = model.transform(X_test)\n",
    "ols = linear_model.LinearRegression()\n",
    "ols.fit(X_train_reduced,y_train)\n",
    "y_pred = ols.predict(X_test_reduced)\n",
    "N3_mse = mean_squared_error(y_test,y_pred)\n",
    "print 'MSE of OLS using {} PCs: {}'.format(N3,N3_mse)"
   ]
  },
  {
   "cell_type": "markdown",
   "metadata": {},
   "source": [
    "### (c) Comments on the results and dimensionality reduction methods\n",
    "(i)\n",
    "We lose the interpretability of features when we use PCA since it transforms the features we have using linear combinations. On the other hand Lasso feature selection does not transform the feature, but merely selects the ones that we have. Therefore, it preserves the interpretability of the feature selection process. We can also infer which features are more important in solving the problem and collect the further data accordingly if we have to.\n",
    "\n",
    "(ii) \n",
    "Note that if we seperate training and testing features during PCA, this method works worse than Lasso feature selection in terms of dimensionality reduction and MSE. Lasso selects 11 features while N1=12 and Lasso selected features perform better with OLS. Since PCA is an unsupervised feature reduction method, while Lasso is a supervised method and actually considers the model's performance when selecting features, the result of Lasso selection working better is expected.\n",
    "\n",
    "\n",
    "(iii) PCA do not require any hyperparameter tuning since it is an unsupervised method, while Lasso requires it. Therefore, it can be easy to implement PCA."
   ]
  },
  {
   "cell_type": "markdown",
   "metadata": {
    "ein.tags": "worksheet-0",
    "slideshow": {
     "slide_type": "-"
    }
   },
   "source": [
    "# Question 4 - Sampling (3+2=5pts)\n",
    "\n",
    "1 . Your firm is conducting a customer survey for a new product. You are tasked with estimating whether the product will be liked or disliked by the entire market. Unfortunately, you cannot reach all the customers. So you randomly sample 400 participants and ask them \"Will you like the product\" as a question. The responses are evenly split. But you attended a Data Mining course, so you know the estimate is not simply 50%. \n",
    "   \n",
    "What are the lower and upper bounds of probability corresponding to a confidence of 99% ($\\alpha = 0.99$)?\n",
    "\n",
    "\n",
    "2 . Your manager asks you to halve the probability range you reported in part 1. This can be accomplished in two different ways:\n",
    "\n",
    "    a) Reduce the confidence without going below 90%. \n",
    "    OR\n",
    "    b) Conduct a new survey to acquire more samples. In this case let us assume that the results are again evenly split.\n",
    "    \n",
    "Which option is viable? If a), what is the highest confidence you can use? And if b), how many samples do you need?\n",
    "\n",
    "## Answer"
   ]
  },
  {
   "cell_type": "markdown",
   "metadata": {},
   "source": [
    "### 1.\n",
    "In order to find $99%$ confidence interval (C.I.), we need to find the central $0.99$ probability interval under the hypothesis $\\hat{p}=1/2$. $0.99%$ of the probability is within $\\pm 2.58\\sigma$ of the mean $1/2$. Therefore, we find the confidence interval using 400 samples as\n",
    "$$C_l = 1/2 - 2.58\\sqrt{\\frac{1/4}{400}} = 0.4355$$\n",
    "$$C_u = 1/2 + 2.58\\sqrt{\\frac{1/4}{400}} = 0.5645.$$\n",
    "We conclude the C.I. as $[C_l,C_u] = [0.4355,0.5645]$"
   ]
  },
  {
   "cell_type": "markdown",
   "metadata": {},
   "source": [
    "### 2.\n",
    "\n",
    "From the derivations in part 1, we can see that in order to halve the confidence range we either have to collect $1600$ samples or decrease the confidence level so that we will aim for a z-score of $1.29$.\n",
    "\n",
    "$\\pm 1.29\\sigma$ range of the mean cover $80.03%$ of the probability, which is the highest confidence we can use in order to halve the range in part 1.\n",
    "\n",
    "Therefore, we cannot halve the range without going below $90%$ confidence. Hence the option (b) is viable with $\\textbf{1600 samples collected}$. "
   ]
  },
  {
   "cell_type": "markdown",
   "metadata": {
    "ein.tags": "worksheet-0",
    "slideshow": {
     "slide_type": "-"
    }
   },
   "source": [
    "# Question 5: Ridge and Lasso Regression (15 points)\n",
    "The ridge regression problem is characterized by the following loss function:\n",
    "$$\\mathcal{L}(\\beta) = ||X \\beta - y||_2^2 + \\lambda ||\\beta||^2_2$$\n",
    "\n",
    "The ridge regression problem is the case where the penalty term ($\\lambda ||\\beta||$) uses the squared l-2 norm ($\\lambda ||\\beta||^2$).\n",
    "\n",
    "a) Find the closed form solution to the ridge regresion problem\n",
    "$$\\underset{\\beta}{\\mathrm{argmin}} \\mathcal{L}(\\beta)$$\n",
    "where $\\mathcal{L}(\\beta)$ is the loss function above.\n",
    "\n",
    "b) Now given the SVD of $X$ as $U \\Sigma V^T$, express $X \\hat \\beta_{ridge}$ in terms of $U$, $V$ and $\\Sigma$\n",
    "\n",
    "c) Explain what the expression for $X \\hat \\beta_{ridge}$ derived above tells us about how the addition of the regularization term affects the solution. (Hint: think about $\\lambda ||\\beta||^2$ as a penalty term)\n",
    "\n",
    "# Answer"
   ]
  },
  {
   "cell_type": "markdown",
   "metadata": {},
   "source": [
    "### (a)\n",
    "$$\\frac{\\partial}{\\partial \\beta}L(\\beta) = 2(X\\beta-y)^T X + 2\\lambda \\beta^T = 0$$\n",
    "\n",
    "$$\\Rightarrow \\beta^T X^T X - y^T X + \\lambda \\beta^T = 0 $$\n",
    "\n",
    "$$\\Rightarrow (X X^T + \\lambda I)\\beta = X^T y$$\n",
    "\n",
    "$$\\Rightarrow \\beta_{ridge} = (X X^T + \\lambda I)^{-1}X^T y$$\n",
    "\n",
    "### (b)\n",
    "$$X\\beta = X (X^T X + \\lambda I)^{-1}X^T y$$\n",
    "Using matrix inversion lemma we can write\n",
    "$$X\\beta = (I + \\frac{1}{\\lambda}X^T X)^{-1}y$$\n",
    "and since $X = U \\Sigma V^T$, then we get\n",
    "$$X\\beta = (I + \\frac{1}{\\lambda}V \\Sigma U^T U \\Sigma V^T )^{-1}y.$$\n",
    "Note that $U$ is orthonormal matrix, thus $U^T U = I$, which gives us\n",
    "$$X\\beta_{ridge} = (I + \\frac{1}{\\lambda}V \\Sigma^2 V^T )^{-1}y.$$\n",
    "\n"
   ]
  },
  {
   "cell_type": "markdown",
   "metadata": {},
   "source": [
    "### (c)\n",
    "As we can see from the expression above, the regularization actually stabilizes the model by adding the identity matrix. Larger $\\lambda$ (regularization) means that the information coming from the data will have less effect on the model. Note that as we increase $\\lambda$, the term $V \\Sigma^2 V^T$ (which actually includes the information we obtain from the data) gets smaller with respect to the identity matrix, which means that the model becomes more irrelevant from the data and actually gets closer to the $l_2$ norm ball (unit circle)."
   ]
  },
  {
   "cell_type": "markdown",
   "metadata": {
    "ein.tags": "worksheet-0",
    "slideshow": {
     "slide_type": "-"
    }
   },
   "source": [
    "# Question 6 - Outliers and Huber Loss (12 pts)\n",
    "\n",
    "In this problem, we will use the same data set from the previous problem set to fit a linear model to the data using a Huber loss function rather than the l-2 norm usually used in OLS. sklearn has a nice API you can use: [http://scikit-learn.org/stable/modules/generated/sklearn.linear_model.HuberRegressor.html#sklearn-linear-model-huberregressor](http://scikit-learn.org/stable/modules/generated/sklearn.linear_model.HuberRegressor.html#sklearn-linear-model-huberregressor)\n",
    "\n",
    "Below is a snippet from the previous problem set to help you get started. For this problem, the only independent variable will be the \"percent\\_change\\_price\" feature.\n"
   ]
  },
  {
   "cell_type": "code",
   "execution_count": 52,
   "metadata": {
    "autoscroll": false,
    "ein.tags": "worksheet-0",
    "slideshow": {
     "slide_type": "-"
    }
   },
   "outputs": [
    {
     "name": "stdout",
     "output_type": "stream",
     "text": [
      "('MSE train: ', 953.53804282290798)\n",
      "('MSE test: ', 1192.1733687430108)\n"
     ]
    }
   ],
   "source": [
    "import pandas as pd\n",
    "import numpy as np\n",
    "from sklearn import linear_model\n",
    "from sklearn.metrics import mean_squared_error\n",
    "\n",
    "df = pd.read_csv('dow_jones_index.data')\n",
    "stock = df[[\"percent_change_price\", \"next_weeks_open\"]]\n",
    "stock = stock.dropna()\n",
    "stock = stock.as_matrix()[1:]\n",
    "stock[:, 1] = [i.split(\"$\")[1] for i in stock[:, 1]]\n",
    "stock = stock.astype('float')\n",
    "stock[:, 0] = (stock[:, 0] - np.mean(stock[:, 0], axis=0))/np.std(stock[:, 0], axis=0)\n",
    "\n",
    "X = stock[:,:1]\n",
    "y = stock[:, 1]\n",
    "X_train = X[:400,]\n",
    "y_train = y[:400]\n",
    "\n",
    "X_test = X[400:,]\n",
    "y_test = y[400:,]\n",
    "\n",
    "clf_train = linear_model.LinearRegression()\n",
    "clf_train.fit(X_train, y_train)\n",
    "predictions_train = clf_train.predict(X_train)\n",
    "mse_train = mean_squared_error(y_train, predictions_train)\n",
    "print('MSE train: ', mse_train)\n",
    "\n",
    "predictions_test = clf_train.predict(X_test)\n",
    "mse_test = mean_squared_error(y_test, predictions_test)\n",
    "print('MSE test: ', mse_test)"
   ]
  },
  {
   "cell_type": "markdown",
   "metadata": {
    "ein.tags": "worksheet-0",
    "slideshow": {
     "slide_type": "-"
    }
   },
   "source": [
    "a) Now do the same for the Huber loss function and print the test and train MSE. Use a regularization coefficient of 0. (5 pts)"
   ]
  },
  {
   "cell_type": "code",
   "execution_count": 53,
   "metadata": {
    "autoscroll": false,
    "ein.tags": "worksheet-0",
    "slideshow": {
     "slide_type": "-"
    }
   },
   "outputs": [
    {
     "name": "stdout",
     "output_type": "stream",
     "text": [
      "('MSE train: ', 969.07508822004024)\n",
      "('MSE test: ', 1235.9698312114529)\n"
     ]
    }
   ],
   "source": [
    "# ANSWER\n",
    "model = linear_model.HuberRegressor(alpha=0)\n",
    "model.fit(X_train,y_train)\n",
    "y_pred_train = model.predict(X_train)\n",
    "mse_train = mean_squared_error(y_train,y_pred_train)\n",
    "print('MSE train: ', mse_train)\n",
    "\n",
    "y_pred_test = model.predict(X_test)\n",
    "mse_test = mean_squared_error(y_test,y_pred_test)\n",
    "print('MSE test: ', mse_test)"
   ]
  },
  {
   "cell_type": "markdown",
   "metadata": {
    "ein.tags": "worksheet-0",
    "slideshow": {
     "slide_type": "-"
    }
   },
   "source": [
    "Now let's artificially introduce some errors intro the train set:"
   ]
  },
  {
   "cell_type": "code",
   "execution_count": 54,
   "metadata": {
    "autoscroll": false,
    "ein.tags": "worksheet-0",
    "slideshow": {
     "slide_type": "-"
    }
   },
   "outputs": [],
   "source": [
    "y_train_outliers = np.copy(y_train)\n",
    "y_train_outliers[0] = 10000.0"
   ]
  },
  {
   "cell_type": "markdown",
   "metadata": {
    "ein.tags": "worksheet-0",
    "slideshow": {
     "slide_type": "-"
    }
   },
   "source": [
    "Note that we would never actually do this in a real application, this is simply for demo purposes.\n",
    "\n",
    "b) Now create two models as before, but using the new y vector during training (one model using OLS and another using the Huber loss). Print the test and train MSE. Use a regularization coefficient of 0. (5 pts)"
   ]
  },
  {
   "cell_type": "code",
   "execution_count": 56,
   "metadata": {
    "autoscroll": false,
    "ein.tags": "worksheet-0",
    "slideshow": {
     "slide_type": "-"
    }
   },
   "outputs": [
    {
     "name": "stdout",
     "output_type": "stream",
     "text": [
      "('Huber Loss - MSE train: ', 248826.75026848132)\n",
      "('Huber Loss - MSE test: ', 1232.5469165949833)\n",
      "('Squared Loss - MSE train: ', 246073.32477878802)\n",
      "('Squared Loss - MSE test: ', 3570.0506399276815)\n"
     ]
    }
   ],
   "source": [
    "# ANSWER\n",
    "# First we train linear regressor using Huber Loss\n",
    "model = linear_model.HuberRegressor(alpha=0)\n",
    "model.fit(X_train,y_train_outliers)\n",
    "y_pred_train = model.predict(X_train)\n",
    "mse_train = mean_squared_error(y_train_outliers,y_pred_train)\n",
    "print('Huber Loss - MSE train: ', mse_train)\n",
    "y_pred_test = model.predict(X_test)\n",
    "mse_test = mean_squared_error(y_test,y_pred_test)\n",
    "print('Huber Loss - MSE test: ', mse_test)\n",
    "# Now we train linear regress using squared loss\n",
    "model = linear_model.LinearRegression()\n",
    "model.fit(X_train,y_train_outliers)\n",
    "y_pred_train = model.predict(X_train)\n",
    "mse_train = mean_squared_error(y_train_outliers,y_pred_train)\n",
    "print('Squared Loss - MSE train: ', mse_train)\n",
    "y_pred_test = model.predict(X_test)\n",
    "mse_test = mean_squared_error(y_test,y_pred_test)\n",
    "print('Squared Loss - MSE test: ', mse_test)"
   ]
  },
  {
   "cell_type": "markdown",
   "metadata": {
    "ein.tags": "worksheet-0",
    "slideshow": {
     "slide_type": "-"
    }
   },
   "source": [
    "c) Explain the difference in prediction performance of the two models in these two scenarios (one without significant outliers in the data, and the other with a single outlier). (2 pts)\n",
    "\n",
    "Note that training error is lower when we used squared loss, but the test error is higher. This is because the linear regressor with squared loss is overfitting over the outlier. Since the outlier creates the highest error over squared loss, linear model tries to lower this error the most by memorizing that point. Since it overfits over training data it performs better on training data, but poorly on test data.\n",
    "\n",
    "On the other hand, for high error values Huber loss does not grow exponentially, but grows linearly. Therefore, the linear model with Huber loss does not put as much weight to reduce the error of the outlier. Thus it does not memorize the outlier, but learns the general underlying model of the data. Since it learns the general underlying model, it performs better over test data where there is no outlier but performs worse than squared loss model over training data"
   ]
  }
 ],
 "metadata": {
  "kernelspec": {
   "display_name": "Python 2",
   "language": "python",
   "name": "python2"
  },
  "language_info": {
   "codemirror_mode": {
    "name": "ipython",
    "version": 2
   },
   "file_extension": ".py",
   "mimetype": "text/x-python",
   "name": "python",
   "nbconvert_exporter": "python",
   "pygments_lexer": "ipython2",
   "version": "2.7.14"
  },
  "name": "EE380L_HW2.ipynb"
 },
 "nbformat": 4,
 "nbformat_minor": 1
}
